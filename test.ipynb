{
 "cells": [
  {
   "cell_type": "code",
   "execution_count": 1,
   "metadata": {},
   "outputs": [],
   "source": [
    "    a = [   {\n",
    "            \"image\": \"./imagesTr/287_roi.nii.gz\",\n",
    "            \"label\": \"./labelsTs/287_roi.nii.gz\"\n",
    "        },\n",
    "        {\n",
    "            \"image\": \"./imagesTr/90_roi.nii.gz\",\n",
    "            \"label\": \"./labelsTs/90_roi.nii.gz\"\n",
    "        },\n",
    "        {\n",
    "            \"image\": \"./imagesTr/125_roi.nii.gz\",\n",
    "            \"label\": \"./labelsTs/125_roi.nii.gz\"\n",
    "        },\n",
    "        {\n",
    "            \"image\": \"./imagesTr/284_roi.nii.gz\",\n",
    "            \"label\": \"./labelsTs/284_roi.nii.gz\"\n",
    "        },\n",
    "        {\n",
    "            \"image\": \"./imagesTr/173_roi.nii.gz\",\n",
    "            \"label\": \"./labelsTs/173_roi.nii.gz\"\n",
    "        }\n",
    "    ]"
   ]
  },
  {
   "cell_type": "code",
   "execution_count": 2,
   "metadata": {},
   "outputs": [],
   "source": [
    "image = []\n",
    "label = []\n",
    "for i in a:\n",
    "    image.append(i[\"image\"])\n",
    "    label.append(i[\"label\"])"
   ]
  },
  {
   "cell_type": "code",
   "execution_count": 3,
   "metadata": {},
   "outputs": [
    {
     "data": {
      "text/plain": [
       "['./imagesTr/287_roi.nii.gz',\n",
       " './imagesTr/90_roi.nii.gz',\n",
       " './imagesTr/125_roi.nii.gz',\n",
       " './imagesTr/284_roi.nii.gz',\n",
       " './imagesTr/173_roi.nii.gz']"
      ]
     },
     "execution_count": 3,
     "metadata": {},
     "output_type": "execute_result"
    }
   ],
   "source": [
    "image"
   ]
  },
  {
   "cell_type": "code",
   "execution_count": 8,
   "metadata": {},
   "outputs": [
    {
     "ename": "KeyboardInterrupt",
     "evalue": "",
     "output_type": "error",
     "traceback": [
      "\u001b[0;31m---------------------------------------------------------------------------\u001b[0m",
      "\u001b[0;31mKeyboardInterrupt\u001b[0m                         Traceback (most recent call last)",
      "\u001b[1;32m/home/dxm/dxm/tmi/test.ipynb Cell 4\u001b[0m in \u001b[0;36m<cell line: 4>\u001b[0;34m()\u001b[0m\n\u001b[1;32m      <a href='vscode-notebook-cell://ssh-remote%2B7b22686f73744e616d65223a2241323030227d/home/dxm/dxm/tmi/test.ipynb#W3sdnNjb2RlLXJlbW90ZQ%3D%3D?line=1'>2</a>\u001b[0m img_path \u001b[39m=\u001b[39m \u001b[39m'\u001b[39m\u001b[39m/home/dxm/dxm/nnunet/nnUNet_raw_data_base/nnUNet_raw_data/Task100_mycardium/imagesTr/43_roi_0000.nii.gz\u001b[39m\u001b[39m'\u001b[39m\n\u001b[1;32m      <a href='vscode-notebook-cell://ssh-remote%2B7b22686f73744e616d65223a2241323030227d/home/dxm/dxm/tmi/test.ipynb#W3sdnNjb2RlLXJlbW90ZQ%3D%3D?line=2'>3</a>\u001b[0m img \u001b[39m=\u001b[39m sitk\u001b[39m.\u001b[39mReadImage(img_path)\n\u001b[0;32m----> <a href='vscode-notebook-cell://ssh-remote%2B7b22686f73744e616d65223a2241323030227d/home/dxm/dxm/tmi/test.ipynb#W3sdnNjb2RlLXJlbW90ZQ%3D%3D?line=3'>4</a>\u001b[0m img \u001b[39m=\u001b[39m sitk\u001b[39m.\u001b[39;49mGetImageFromArray(img)\n",
      "File \u001b[0;32m/data1/dxm/anaconda3/lib/python3.9/site-packages/SimpleITK/extra.py:276\u001b[0m, in \u001b[0;36mGetImageFromArray\u001b[0;34m(arr, isVector)\u001b[0m\n\u001b[1;32m    273\u001b[0m \u001b[39mif\u001b[39;00m \u001b[39mnot\u001b[39;00m HAVE_NUMPY:\n\u001b[1;32m    274\u001b[0m     \u001b[39mraise\u001b[39;00m \u001b[39mImportError\u001b[39;00m(\u001b[39m'\u001b[39m\u001b[39mNumpy not available.\u001b[39m\u001b[39m'\u001b[39m)\n\u001b[0;32m--> 276\u001b[0m z \u001b[39m=\u001b[39m numpy\u001b[39m.\u001b[39;49masarray(arr)\n\u001b[1;32m    278\u001b[0m \u001b[39mif\u001b[39;00m isVector \u001b[39mis\u001b[39;00m \u001b[39mNone\u001b[39;00m:\n\u001b[1;32m    279\u001b[0m   \u001b[39mif\u001b[39;00m z\u001b[39m.\u001b[39mndim \u001b[39m==\u001b[39m \u001b[39m4\u001b[39m \u001b[39mand\u001b[39;00m z\u001b[39m.\u001b[39mdtype \u001b[39m!=\u001b[39m numpy\u001b[39m.\u001b[39mcomplex64 \u001b[39mand\u001b[39;00m z\u001b[39m.\u001b[39mdtype \u001b[39m!=\u001b[39m numpy\u001b[39m.\u001b[39mcomplex128:\n",
      "File \u001b[0;32m/data1/dxm/anaconda3/lib/python3.9/site-packages/SimpleITK/SimpleITK.py:4020\u001b[0m, in \u001b[0;36mImage.__iter__\u001b[0;34m(self)\u001b[0m\n\u001b[1;32m   4016\u001b[0m     idx \u001b[39m=\u001b[39m [\u001b[39m0\u001b[39m] \u001b[39m*\u001b[39m dim\n\u001b[1;32m   4018\u001b[0m     \u001b[39mwhile\u001b[39;00m idx[dim\u001b[39m-\u001b[39m\u001b[39m1\u001b[39m] \u001b[39m<\u001b[39m size[dim\u001b[39m-\u001b[39m\u001b[39m1\u001b[39m]:\n\u001b[0;32m-> 4020\u001b[0m       \u001b[39myield\u001b[39;00m \u001b[39mself\u001b[39;49m[ idx ]\n\u001b[1;32m   4022\u001b[0m \u001b[39m# increment the idx\u001b[39;00m\n\u001b[1;32m   4023\u001b[0m       \u001b[39mfor\u001b[39;00m d \u001b[39min\u001b[39;00m \u001b[39mrange\u001b[39m( \u001b[39m0\u001b[39m, dim ):\n",
      "File \u001b[0;32m/data1/dxm/anaconda3/lib/python3.9/site-packages/SimpleITK/SimpleITK.py:4150\u001b[0m, in \u001b[0;36mImage.__getitem__\u001b[0;34m(self, idx)\u001b[0m\n\u001b[1;32m   4147\u001b[0m     idx \u001b[39m=\u001b[39m \u001b[39mself\u001b[39m\u001b[39m.\u001b[39m_expand_ellipsis(idx)\n\u001b[1;32m   4149\u001b[0m \u001b[39m# All the indices are integers just return GetPixel value\u001b[39;00m\n\u001b[0;32m-> 4150\u001b[0m     \u001b[39mif\u001b[39;00m \u001b[39mall\u001b[39m( isint(i) \u001b[39mfor\u001b[39;00m i \u001b[39min\u001b[39;00m idx ):\n\u001b[1;32m   4151\u001b[0m \u001b[39m# if any of the arguments are negative integers subract them for the size\u001b[39;00m\n\u001b[1;32m   4152\u001b[0m       idx \u001b[39m=\u001b[39m [idx[i] \u001b[39mif\u001b[39;00m idx[i] \u001b[39m>\u001b[39m\u001b[39m=\u001b[39m \u001b[39m0\u001b[39m \u001b[39melse\u001b[39;00m (size[i] \u001b[39m+\u001b[39m idx[i]) \u001b[39mfor\u001b[39;00m i \u001b[39min\u001b[39;00m \u001b[39mrange\u001b[39m(\u001b[39mlen\u001b[39m(idx))]\n\u001b[1;32m   4154\u001b[0m       \u001b[39mfor\u001b[39;00m i \u001b[39min\u001b[39;00m \u001b[39mrange\u001b[39m(\u001b[39mlen\u001b[39m(idx)):\n",
      "\u001b[0;31mKeyboardInterrupt\u001b[0m: "
     ]
    }
   ],
   "source": [
    "import SimpleITK as sitk\n",
    "img_path = '/home/dxm/dxm/nnunet/nnUNet_raw_data_base/nnUNet_raw_data/Task100_mycardium/imagesTr/43_roi_0000.nii.gz'\n",
    "img = sitk.ReadImage(img_path)\n",
    "img = sitk.GetImageFromArray(img)"
   ]
  },
  {
   "cell_type": "code",
   "execution_count": null,
   "metadata": {},
   "outputs": [
    {
     "data": {
      "text/plain": [
       "<SimpleITK.SimpleITK.Image; proxy of <Swig Object of type 'std::vector< itk::simple::Image >::value_type *' at 0x7f167b10fea0> >"
      ]
     },
     "execution_count": 6,
     "metadata": {},
     "output_type": "execute_result"
    }
   ],
   "source": [
    "img"
   ]
  }
 ],
 "metadata": {
  "kernelspec": {
   "display_name": "base",
   "language": "python",
   "name": "python3"
  },
  "language_info": {
   "codemirror_mode": {
    "name": "ipython",
    "version": 3
   },
   "file_extension": ".py",
   "mimetype": "text/x-python",
   "name": "python",
   "nbconvert_exporter": "python",
   "pygments_lexer": "ipython3",
   "version": "3.9.12 (main, Apr  5 2022, 06:56:58) \n[GCC 7.5.0]"
  },
  "orig_nbformat": 4,
  "vscode": {
   "interpreter": {
    "hash": "d5864b05147a1f08ec879a255331413f3991c39eea0bb884db52c6648f1a8ada"
   }
  }
 },
 "nbformat": 4,
 "nbformat_minor": 2
}
