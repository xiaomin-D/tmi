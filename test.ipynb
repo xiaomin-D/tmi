{
 "cells": [
  {
   "cell_type": "code",
   "execution_count": 1,
   "metadata": {},
   "outputs": [],
   "source": [
    "    a = [   {\n",
    "            \"image\": \"./imagesTr/287_roi.nii.gz\",\n",
    "            \"label\": \"./labelsTs/287_roi.nii.gz\"\n",
    "        },\n",
    "        {\n",
    "            \"image\": \"./imagesTr/90_roi.nii.gz\",\n",
    "            \"label\": \"./labelsTs/90_roi.nii.gz\"\n",
    "        },\n",
    "        {\n",
    "            \"image\": \"./imagesTr/125_roi.nii.gz\",\n",
    "            \"label\": \"./labelsTs/125_roi.nii.gz\"\n",
    "        },\n",
    "        {\n",
    "            \"image\": \"./imagesTr/284_roi.nii.gz\",\n",
    "            \"label\": \"./labelsTs/284_roi.nii.gz\"\n",
    "        },\n",
    "        {\n",
    "            \"image\": \"./imagesTr/173_roi.nii.gz\",\n",
    "            \"label\": \"./labelsTs/173_roi.nii.gz\"\n",
    "        }\n",
    "    ]"
   ]
  },
  {
   "cell_type": "code",
   "execution_count": 2,
   "metadata": {},
   "outputs": [],
   "source": [
    "image = []\n",
    "label = []\n",
    "for i in a:\n",
    "    image.append(i[\"image\"])\n",
    "    label.append(i[\"label\"])"
   ]
  },
  {
   "cell_type": "code",
   "execution_count": 3,
   "metadata": {},
   "outputs": [
    {
     "data": {
      "text/plain": [
       "['./imagesTr/287_roi.nii.gz',\n",
       " './imagesTr/90_roi.nii.gz',\n",
       " './imagesTr/125_roi.nii.gz',\n",
       " './imagesTr/284_roi.nii.gz',\n",
       " './imagesTr/173_roi.nii.gz']"
      ]
     },
     "execution_count": 3,
     "metadata": {},
     "output_type": "execute_result"
    }
   ],
   "source": [
    "image"
   ]
  },
  {
   "cell_type": "code",
   "execution_count": 2,
   "metadata": {},
   "outputs": [],
   "source": [
    "import SimpleITK as sitk\n",
    "img_path = '/home/dxm/dxm/nnunet/nnUNet_raw_data_base/nnUNet_raw_data/Task100_mycardium/imagesTr/43_roi_0000.nii.gz'\n",
    "img = sitk.ReadImage(img_path)\n",
    "img = sitk.GetArrayFromImage(img)\n"
   ]
  },
  {
   "cell_type": "code",
   "execution_count": 17,
   "metadata": {},
   "outputs": [
    {
     "ename": "KeyboardInterrupt",
     "evalue": "",
     "output_type": "error",
     "traceback": [
      "\u001b[0;31m---------------------------------------------------------------------------\u001b[0m",
      "\u001b[0;31mKeyboardInterrupt\u001b[0m                         Traceback (most recent call last)",
      "Cell \u001b[0;32mIn[17], line 5\u001b[0m\n\u001b[1;32m      2\u001b[0m \u001b[39mimport\u001b[39;00m \u001b[39mnumpy\u001b[39;00m \u001b[39mas\u001b[39;00m \u001b[39mnp\u001b[39;00m\n\u001b[1;32m      3\u001b[0m \u001b[39mfrom\u001b[39;00m \u001b[39mPIL\u001b[39;00m \u001b[39mimport\u001b[39;00m Image\n\u001b[0;32m----> 5\u001b[0m np_array \u001b[39m=\u001b[39m np\u001b[39m.\u001b[39;49marray(img)\n\u001b[1;32m      7\u001b[0m pil_image\u001b[39m=\u001b[39mImage\u001b[39m.\u001b[39mfromarray(np_array[\u001b[39m123\u001b[39m])\n\u001b[1;32m      8\u001b[0m pil_image\u001b[39m.\u001b[39mshow()\n",
      "File \u001b[0;32m/data1/dxm/anaconda3/envs/torch112/lib/python3.9/site-packages/SimpleITK/SimpleITK.py:4143\u001b[0m, in \u001b[0;36mImage.__iter__\u001b[0;34m(self)\u001b[0m\n\u001b[1;32m   4141\u001b[0m \u001b[39m# increment the idx\u001b[39;00m\n\u001b[1;32m   4142\u001b[0m       \u001b[39mfor\u001b[39;00m d \u001b[39min\u001b[39;00m \u001b[39mrange\u001b[39m( \u001b[39m0\u001b[39m, dim ):\n\u001b[0;32m-> 4143\u001b[0m         idx[d] \u001b[39m+\u001b[39m\u001b[39m=\u001b[39m \u001b[39m1\u001b[39m\n\u001b[1;32m   4144\u001b[0m         \u001b[39mif\u001b[39;00m idx[d] \u001b[39m>\u001b[39m\u001b[39m=\u001b[39m size[d] \u001b[39mand\u001b[39;00m d \u001b[39m!=\u001b[39m dim  \u001b[39m-\u001b[39m \u001b[39m1\u001b[39m:\n\u001b[1;32m   4145\u001b[0m            idx[d] \u001b[39m=\u001b[39m \u001b[39m0\u001b[39m\n",
      "\u001b[0;31mKeyboardInterrupt\u001b[0m: "
     ]
    }
   ],
   "source": [
    "img = sitk.ReadImage(img_path)\n",
    "import numpy as np\n",
    "from PIL import Image\n",
    "\n",
    "np_array = np.array(img)\n",
    "\n",
    "pil_image=Image.fromarray(np_array[123])\n",
    "pil_image.show()"
   ]
  },
  {
   "cell_type": "code",
   "execution_count": 11,
   "metadata": {},
   "outputs": [
    {
     "ename": "ValueError",
     "evalue": "operands could not be broadcast together with remapped shapes [original->remapped]: (6,)  and requested shape (3,2)",
     "output_type": "error",
     "traceback": [
      "\u001b[0;31m---------------------------------------------------------------------------\u001b[0m",
      "\u001b[0;31mValueError\u001b[0m                                Traceback (most recent call last)",
      "Cell \u001b[0;32mIn[11], line 2\u001b[0m\n\u001b[1;32m      1\u001b[0m \u001b[39mimport\u001b[39;00m \u001b[39mnumpy\u001b[39;00m \u001b[39mas\u001b[39;00m \u001b[39mnp\u001b[39;00m\n\u001b[0;32m----> 2\u001b[0m b \u001b[39m=\u001b[39m np\u001b[39m.\u001b[39;49mpad(img,(\u001b[39m1\u001b[39;49m,\u001b[39m0\u001b[39;49m,\u001b[39m0\u001b[39;49m,\u001b[39m0\u001b[39;49m,\u001b[39m0\u001b[39;49m,\u001b[39m0\u001b[39;49m),\u001b[39m'\u001b[39;49m\u001b[39mconstant\u001b[39;49m\u001b[39m'\u001b[39;49m)\n\u001b[1;32m      3\u001b[0m b\u001b[39m.\u001b[39mshape\n",
      "File \u001b[0;32m<__array_function__ internals>:180\u001b[0m, in \u001b[0;36mpad\u001b[0;34m(*args, **kwargs)\u001b[0m\n",
      "File \u001b[0;32m/data1/dxm/anaconda3/envs/torch112/lib/python3.9/site-packages/numpy/lib/arraypad.py:743\u001b[0m, in \u001b[0;36mpad\u001b[0;34m(array, pad_width, mode, **kwargs)\u001b[0m\n\u001b[1;32m    740\u001b[0m     \u001b[39mraise\u001b[39;00m \u001b[39mTypeError\u001b[39;00m(\u001b[39m'\u001b[39m\u001b[39m`pad_width` must be of integral type.\u001b[39m\u001b[39m'\u001b[39m)\n\u001b[1;32m    742\u001b[0m \u001b[39m# Broadcast to shape (array.ndim, 2)\u001b[39;00m\n\u001b[0;32m--> 743\u001b[0m pad_width \u001b[39m=\u001b[39m _as_pairs(pad_width, array\u001b[39m.\u001b[39;49mndim, as_index\u001b[39m=\u001b[39;49m\u001b[39mTrue\u001b[39;49;00m)\n\u001b[1;32m    745\u001b[0m \u001b[39mif\u001b[39;00m callable(mode):\n\u001b[1;32m    746\u001b[0m     \u001b[39m# Old behavior: Use user-supplied function with np.apply_along_axis\u001b[39;00m\n\u001b[1;32m    747\u001b[0m     function \u001b[39m=\u001b[39m mode\n",
      "File \u001b[0;32m/data1/dxm/anaconda3/envs/torch112/lib/python3.9/site-packages/numpy/lib/arraypad.py:518\u001b[0m, in \u001b[0;36m_as_pairs\u001b[0;34m(x, ndim, as_index)\u001b[0m\n\u001b[1;32m    514\u001b[0m     \u001b[39mraise\u001b[39;00m \u001b[39mValueError\u001b[39;00m(\u001b[39m\"\u001b[39m\u001b[39mindex can\u001b[39m\u001b[39m'\u001b[39m\u001b[39mt contain negative values\u001b[39m\u001b[39m\"\u001b[39m)\n\u001b[1;32m    516\u001b[0m \u001b[39m# Converting the array with `tolist` seems to improve performance\u001b[39;00m\n\u001b[1;32m    517\u001b[0m \u001b[39m# when iterating and indexing the result (see usage in `pad`)\u001b[39;00m\n\u001b[0;32m--> 518\u001b[0m \u001b[39mreturn\u001b[39;00m np\u001b[39m.\u001b[39;49mbroadcast_to(x, (ndim, \u001b[39m2\u001b[39;49m))\u001b[39m.\u001b[39mtolist()\n",
      "File \u001b[0;32m<__array_function__ internals>:180\u001b[0m, in \u001b[0;36mbroadcast_to\u001b[0;34m(*args, **kwargs)\u001b[0m\n",
      "File \u001b[0;32m/data1/dxm/anaconda3/envs/torch112/lib/python3.9/site-packages/numpy/lib/stride_tricks.py:413\u001b[0m, in \u001b[0;36mbroadcast_to\u001b[0;34m(array, shape, subok)\u001b[0m\n\u001b[1;32m    367\u001b[0m \u001b[39m@array_function_dispatch\u001b[39m(_broadcast_to_dispatcher, module\u001b[39m=\u001b[39m\u001b[39m'\u001b[39m\u001b[39mnumpy\u001b[39m\u001b[39m'\u001b[39m)\n\u001b[1;32m    368\u001b[0m \u001b[39mdef\u001b[39;00m \u001b[39mbroadcast_to\u001b[39m(array, shape, subok\u001b[39m=\u001b[39m\u001b[39mFalse\u001b[39;00m):\n\u001b[1;32m    369\u001b[0m \u001b[39m    \u001b[39m\u001b[39m\"\"\"Broadcast an array to a new shape.\u001b[39;00m\n\u001b[1;32m    370\u001b[0m \n\u001b[1;32m    371\u001b[0m \u001b[39m    Parameters\u001b[39;00m\n\u001b[0;32m   (...)\u001b[0m\n\u001b[1;32m    411\u001b[0m \u001b[39m           [1, 2, 3]])\u001b[39;00m\n\u001b[1;32m    412\u001b[0m \u001b[39m    \"\"\"\u001b[39;00m\n\u001b[0;32m--> 413\u001b[0m     \u001b[39mreturn\u001b[39;00m _broadcast_to(array, shape, subok\u001b[39m=\u001b[39;49msubok, readonly\u001b[39m=\u001b[39;49m\u001b[39mTrue\u001b[39;49;00m)\n",
      "File \u001b[0;32m/data1/dxm/anaconda3/envs/torch112/lib/python3.9/site-packages/numpy/lib/stride_tricks.py:349\u001b[0m, in \u001b[0;36m_broadcast_to\u001b[0;34m(array, shape, subok, readonly)\u001b[0m\n\u001b[1;32m    346\u001b[0m     \u001b[39mraise\u001b[39;00m \u001b[39mValueError\u001b[39;00m(\u001b[39m'\u001b[39m\u001b[39mall elements of broadcast shape must be non-\u001b[39m\u001b[39m'\u001b[39m\n\u001b[1;32m    347\u001b[0m                      \u001b[39m'\u001b[39m\u001b[39mnegative\u001b[39m\u001b[39m'\u001b[39m)\n\u001b[1;32m    348\u001b[0m extras \u001b[39m=\u001b[39m []\n\u001b[0;32m--> 349\u001b[0m it \u001b[39m=\u001b[39m np\u001b[39m.\u001b[39;49mnditer(\n\u001b[1;32m    350\u001b[0m     (array,), flags\u001b[39m=\u001b[39;49m[\u001b[39m'\u001b[39;49m\u001b[39mmulti_index\u001b[39;49m\u001b[39m'\u001b[39;49m, \u001b[39m'\u001b[39;49m\u001b[39mrefs_ok\u001b[39;49m\u001b[39m'\u001b[39;49m, \u001b[39m'\u001b[39;49m\u001b[39mzerosize_ok\u001b[39;49m\u001b[39m'\u001b[39;49m] \u001b[39m+\u001b[39;49m extras,\n\u001b[1;32m    351\u001b[0m     op_flags\u001b[39m=\u001b[39;49m[\u001b[39m'\u001b[39;49m\u001b[39mreadonly\u001b[39;49m\u001b[39m'\u001b[39;49m], itershape\u001b[39m=\u001b[39;49mshape, order\u001b[39m=\u001b[39;49m\u001b[39m'\u001b[39;49m\u001b[39mC\u001b[39;49m\u001b[39m'\u001b[39;49m)\n\u001b[1;32m    352\u001b[0m \u001b[39mwith\u001b[39;00m it:\n\u001b[1;32m    353\u001b[0m     \u001b[39m# never really has writebackifcopy semantics\u001b[39;00m\n\u001b[1;32m    354\u001b[0m     broadcast \u001b[39m=\u001b[39m it\u001b[39m.\u001b[39mitviews[\u001b[39m0\u001b[39m]\n",
      "\u001b[0;31mValueError\u001b[0m: operands could not be broadcast together with remapped shapes [original->remapped]: (6,)  and requested shape (3,2)"
     ]
    }
   ],
   "source": [
    " import numpy as np\n",
    " b = np.pad(img,(1,0,0,0,0,0),'constant')\n",
    " b.shape\n",
    " \n",
    " "
   ]
  },
  {
   "cell_type": "code",
   "execution_count": 10,
   "metadata": {},
   "outputs": [],
   "source": [
    "img_dir = '/home/dxm/dxm/nnunet/nnUNet_raw_data_base/nnUNet_raw_data/Task100_mycardium'\n",
    "annotations_file = 'dataset.json'\n",
    "from pathlib import Path\n",
    "import json\n",
    "import os\n",
    "anno_path = os.path.join(img_dir,\"dataset.json\")\n",
    "with open(anno_path) as f:\n",
    "    annotation = json.load(f)[\"training\"]\n",
    "# self.image = []\n",
    "# self.img_labels = []\n",
    "# for i in annotation:\n",
    "# self.image.append(i[\"image\"])\n",
    "# self.img_labels.append(i[\"label\"])\n",
    "# print(self.image)\n",
    "# print(self.img_labels)\n",
    "# self.img_dir = img_dir\n",
    "# self.transform = transform\n",
    "# self.target_transform = target_transform"
   ]
  },
  {
   "cell_type": "code",
   "execution_count": 36,
   "metadata": {},
   "outputs": [],
   "source": [
    "import os\n",
    "import json\n",
    "import torch\n",
    "import torch.utils.data as data\n",
    "from torchvision.io import read_image\n",
    "import SimpleITK as sitk\n",
    "import numpy as np\n",
    "\"\"\"\n",
    "img_dir = '/home/dxm/dxm/nnunet/nnUNet_raw_data_base/nnUNet_raw_data/Task100_mycardium'\n",
    "annotations_file = 'dataset.json'\n",
    "\"\"\"\n",
    "\n",
    "def build_dataloader(img_dir, batch_size = 8, train = True, transform=None, target_transform=None):\n",
    "    \"\"\"\n",
    "    return dataloader\n",
    "    \"\"\"\n",
    "    loader = data.DataLoader(ct_dataset(img_dir = img_dir, train = train), batch_size=batch_size, shuffle=True,\n",
    "                    num_workers = 8,pin_memory=False)\n",
    "    return loader\n",
    "\n",
    "\n",
    "class ct_dataset(data.Dataset):\n",
    "    def __init__(self, img_dir, train = True, transform=None, target_transform=None):\n",
    "        self.img_dir = img_dir\n",
    "        if train:\n",
    "            with open(os.path.join(img_dir,\"dataset.json\")) as f:\n",
    "                annotation = json.load(f)[\"training\"]\n",
    "                self.image = []\n",
    "                self.img_labels = []\n",
    "                for i in annotation:\n",
    "                    self.image.append(i[\"image\"].replace(\"roi\",\"roi_0000\") )\n",
    "                    self.img_labels.append(i[\"label\"])\n",
    "        else:\n",
    "            with open(os.path.join(img_dir,\"dataset.json\")) as f:\n",
    "                annotation = json.load(f)[\"test\"]\n",
    "                self.image = annotation\n",
    "                self.img_labels = []\n",
    "        self.transform = transform\n",
    "        self.target_transform = target_transform\n",
    "        \n",
    "    def __len__(self):\n",
    "        return len(self.img_labels)\n",
    "\n",
    "    def __getitem__(self, idx):\n",
    "        img_path = os.path.join(self.img_dir, self.image[idx])\n",
    "        label_path = os.path.join(self.img_dir, self.img_labels[idx])\n",
    "        img = sitk.ReadImage(img_path)\n",
    "        img = sitk.GetArrayFromImage(img).astype(float)\n",
    "        label = sitk.ReadImage(label_path)\n",
    "        label = sitk.GetArrayFromImage(label).astype(float)\n",
    "        img = np.pad(img, ((512 - img.shape[0],0),(0,0), (0,0)), 'constant')\n",
    "        label = np.pad(label, ((512 - img.shape[0],0), (0,0), (0,0)), 'constant')\n",
    "        # if self.transform:\n",
    "        #     image = self.transform(image)\n",
    "        # if self.target_transform:\n",
    "        #     label = self.target_transform(label)\n",
    "        return img, label    "
   ]
  },
  {
   "cell_type": "code",
   "execution_count": 37,
   "metadata": {},
   "outputs": [],
   "source": [
    "img_dir = '/home/dxm/dxm/nnunet/nnUNet_raw_data_base/nnUNet_raw_data/Task100_mycardium'\n",
    "dataloader = build_dataloader(img_dir = img_dir,batch_size=1)\n",
    "for img, label in dataloader:\n",
    "    print(img.shape)"
   ]
  }
 ],
 "metadata": {
  "kernelspec": {
   "display_name": "torch112",
   "language": "python",
   "name": "python3"
  },
  "language_info": {
   "codemirror_mode": {
    "name": "ipython",
    "version": 3
   },
   "file_extension": ".py",
   "mimetype": "text/x-python",
   "name": "python",
   "nbconvert_exporter": "python",
   "pygments_lexer": "ipython3",
   "version": "3.9.15"
  },
  "orig_nbformat": 4,
  "vscode": {
   "interpreter": {
    "hash": "c8351d391ba29fb629687402cd7d4c7fd95574d1bf77eedfaeaedf4ee054a287"
   }
  }
 },
 "nbformat": 4,
 "nbformat_minor": 2
}
